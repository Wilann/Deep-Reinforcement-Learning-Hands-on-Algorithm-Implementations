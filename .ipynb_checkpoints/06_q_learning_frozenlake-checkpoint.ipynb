{
 "cells": [
  {
   "cell_type": "markdown",
   "metadata": {},
   "source": [
    "# [06] Q-Learning in Frozen Lake\n",
    "\n",
    "### Imports & Constants"
   ]
  },
  {
   "cell_type": "code",
   "execution_count": 11,
   "metadata": {},
   "outputs": [],
   "source": [
    "import gym\n",
    "import collections, os, datetime\n",
    "from torch.utils.tensorboard import SummaryWriter\n",
    "\n",
    "ENV_NAME = \"FrozenLake-v0\"\n",
    "GAMMA = 0.9 # reward decay \n",
    "ALPHA = 0.2 # learning rate \n",
    "NUM_TEST_EPISODES = 20"
   ]
  },
  {
   "cell_type": "markdown",
   "metadata": {},
   "source": [
    "<br> \n",
    "\n",
    "### Agent"
   ]
  },
  {
   "cell_type": "code",
   "execution_count": 5,
   "metadata": {},
   "outputs": [],
   "source": [
    "class Agent:\n",
    "    def __init__(self):\n",
    "        '''Constuctor'''\n",
    "        self.env = gym.make(ENV_NAME)\n",
    "        self.state = self.env.reset()\n",
    "        \n",
    "        # Action (Q) values table \n",
    "        self.values = collections.defaultdict(float)\n",
    "\n",
    "    def sample_env(self):\n",
    "        '''Samples environment for (s, a, r, s') tuple'''\n",
    "        \n",
    "        action = self.env.action_space.sample()\n",
    "        old_state = self.state\n",
    "        new_state, reward, is_done, _ = self.env.step(action)\n",
    "        self.state = self.env.reset() if is_done else new_state\n",
    "        return old_state, action, reward, new_state\n",
    "\n",
    "    def best_value_and_action(self, state):\n",
    "        '''Pick best action value and action (the one with the largest action value)'''\n",
    "        \n",
    "        best_value, best_action = None, None\n",
    "        for action in range(self.env.action_space.n):\n",
    "            \n",
    "            action_value = self.values[(state, action)]\n",
    "            \n",
    "            # Check for best action \n",
    "            if best_value is None or best_value < action_value:\n",
    "                best_value = action_value\n",
    "                best_action = action\n",
    "        \n",
    "        return best_value, best_action\n",
    "\n",
    "    def value_update(self, s, a, r, next_s):\n",
    "        '''Update Q-table'''\n",
    "        \n",
    "        # Get best action value \n",
    "        best_v, _ = self.best_value_and_action(next_s)\n",
    "        \n",
    "        # Calculate new action value \n",
    "        new_v = r + GAMMA * best_v\n",
    "        old_v = self.values[(s, a)]\n",
    "        \n",
    "        # \"Blending\": Average between old and new values using the learning rate \n",
    "        self.values[(s, a)] = old_v * (1-ALPHA) + new_v * ALPHA\n",
    "\n",
    "    def play_episode(self, env):\n",
    "        '''Plays an episode using the environment'''\n",
    "        \n",
    "        total_reward = 0.0\n",
    "        state = env.reset()\n",
    "        while True:\n",
    "            \n",
    "            # Get best action \n",
    "            _, action = self.best_value_and_action(state)\n",
    "            \n",
    "            # Take a step and accumulate total reward \n",
    "            new_state, reward, is_done, _ = env.step(action)\n",
    "            total_reward += reward\n",
    "            \n",
    "            if is_done:\n",
    "                break\n",
    "            \n",
    "            state = new_state\n",
    "        \n",
    "        return total_reward"
   ]
  },
  {
   "cell_type": "markdown",
   "metadata": {},
   "source": [
    "##### `value_update(s, a, r, next_s)` formula: \n",
    "\n",
    "$ Q(s,a) \\leftarrow (1-\\alpha) Q(s,a) + \\alpha \\Big( r + \\gamma \\max_{a' \\in A}Q(s', a') \\Big) $\n",
    "\n",
    "<br> \n",
    "\n",
    "### Main"
   ]
  },
  {
   "cell_type": "code",
   "execution_count": 21,
   "metadata": {},
   "outputs": [
    {
     "name": "stdout",
     "output_type": "stream",
     "text": [
      "Best reward updated: 0.000 -> 0.050\n",
      "Best reward updated: 0.050 -> 0.200\n",
      "Best reward updated: 0.200 -> 0.250\n",
      "Best reward updated: 0.250 -> 0.350\n",
      "Best reward updated: 0.350 -> 0.400\n",
      "Best reward updated: 0.400 -> 0.500\n",
      "Best reward updated: 0.500 -> 0.600\n",
      "Best reward updated: 0.600 -> 0.700\n",
      "Best reward updated: 0.700 -> 0.750\n",
      "Best reward updated: 0.750 -> 0.850\n",
      "Solved in 7340 iterations!\n"
     ]
    }
   ],
   "source": [
    "test_env = gym.make(ENV_NAME)\n",
    "agent = Agent()\n",
    "\n",
    "# Initialize Tensorboard \n",
    "log_dir = os.path.join('./runs/06_runs', datetime.datetime.now().strftime(\"%Y:%m:%d-%H:%M:%S\"))\n",
    "writer = SummaryWriter(log_dir)\n",
    "\n",
    "iter_no = 0\n",
    "best_reward = 0.0\n",
    "    \n",
    "while True:\n",
    "    iter_no += 1\n",
    "    \n",
    "    # Sample environment update values table \n",
    "    s, a, r, next_s = agent.sample_env()\n",
    "    agent.value_update(s, a, r, next_s)\n",
    "\n",
    "    # Play `NUM_TEST_EPISODES` episodes and save reward obtained \n",
    "    reward = 0.0\n",
    "    for _ in range(NUM_TEST_EPISODES):\n",
    "        reward += agent.play_episode(test_env)\n",
    "    reward /= TEST_EPISODES\n",
    "    writer.add_scalar(\"reward\", reward, iter_no)\n",
    "    \n",
    "    # Update best reward \n",
    "    if reward > best_reward:\n",
    "        print(\"Best reward updated: %.3f -> %.3f\" % (best_reward, reward))\n",
    "        best_reward = reward\n",
    "    \n",
    "    # Environment solved \n",
    "    if reward > 0.80:\n",
    "        print(\"Solved in %d iterations!\" % iter_no)\n",
    "        break\n",
    "\n",
    "writer.close()"
   ]
  },
  {
   "cell_type": "markdown",
   "metadata": {},
   "source": [
    "<br> \n",
    "\n",
    "### TensorBoard"
   ]
  },
  {
   "cell_type": "code",
   "execution_count": null,
   "metadata": {},
   "outputs": [],
   "source": [
    "!tensorboard dev upload --logdir='./runs/06_runs' --name='06_q_learning_frozenlake'"
   ]
  },
  {
   "cell_type": "markdown",
   "metadata": {},
   "source": [
    "<img src='./runs/06_runs/tensorboard.png'>"
   ]
  },
  {
   "cell_type": "markdown",
   "metadata": {},
   "source": [
    "<br>"
   ]
  }
 ],
 "metadata": {
  "kernelspec": {
   "display_name": "drl",
   "language": "python",
   "name": "drlnd"
  },
  "language_info": {
   "codemirror_mode": {
    "name": "ipython",
    "version": 3
   },
   "file_extension": ".py",
   "mimetype": "text/x-python",
   "name": "python",
   "nbconvert_exporter": "python",
   "pygments_lexer": "ipython3",
   "version": "3.6.10"
  }
 },
 "nbformat": 4,
 "nbformat_minor": 4
}
