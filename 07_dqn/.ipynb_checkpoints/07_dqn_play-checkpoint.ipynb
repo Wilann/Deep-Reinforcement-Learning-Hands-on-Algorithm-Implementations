{
 "cells": [
  {
   "cell_type": "markdown",
   "metadata": {},
   "source": [
    "# [07] Play Deep-Q Learning in Pong\n",
    "\n",
    "### Imports & Constants"
   ]
  },
  {
   "cell_type": "code",
   "execution_count": null,
   "metadata": {},
   "outputs": [],
   "source": [
    "import time\n",
    "import collections\n",
    "import numpy as np\n",
    "\n",
    "import gym\n",
    "import torch\n",
    "\n",
    "from lib import wrappers, dqn_model\n",
    "\n",
    "\n",
    "DEFAULT_ENV_NAME = \"PongNoFrameskip-v4\"\n",
    "FPS = 25"
   ]
  },
  {
   "cell_type": "markdown",
   "metadata": {},
   "source": [
    "<br> \n",
    "\n",
    "### Main"
   ]
  },
  {
   "cell_type": "code",
   "execution_count": null,
   "metadata": {},
   "outputs": [],
   "source": [
    "if __name__ == \"__main__\":\n",
    "    parser = argparse.ArgumentParser()\n",
    "    parser.add_argument(\"-m\", \"--model\", required=True,\n",
    "                        help=\"Model file to load\")\n",
    "    parser.add_argument(\"-e\", \"--env\", default=DEFAULT_ENV_NAME,\n",
    "                        help=\"Environment name to use, default=\" +\n",
    "                             DEFAULT_ENV_NAME)\n",
    "    parser.add_argument(\"-r\", \"--record\", help=\"Directory for video\")\n",
    "    parser.add_argument(\"--no-vis\", default=True, dest='vis',\n",
    "                        help=\"Disable visualization\",\n",
    "                        action='store_false')\n",
    "    args = parser.parse_args()\n",
    "\n",
    "    env = wrappers.make_env(args.env)\n",
    "    if args.record:\n",
    "        env = gym.wrappers.Monitor(env, args.record)\n",
    "    net = dqn_model.DQN(env.observation_space.shape,\n",
    "                        env.action_space.n)\n",
    "    state = torch.load(args.model, map_location=lambda stg, _: stg)\n",
    "    net.load_state_dict(state)\n",
    "\n",
    "    state = env.reset()\n",
    "    total_reward = 0.0\n",
    "    c = collections.Counter()\n",
    "\n",
    "    while True:\n",
    "        start_ts = time.time()\n",
    "        if args.vis:\n",
    "            env.render()\n",
    "        state_v = torch.tensor(np.array([state], copy=False))\n",
    "        q_vals = net(state_v).data.numpy()[0]\n",
    "        action = np.argmax(q_vals)\n",
    "        c[action] += 1\n",
    "        state, reward, done, _ = env.step(action)\n",
    "        total_reward += reward\n",
    "        if done:\n",
    "            break\n",
    "        if args.vis:\n",
    "            delta = 1/FPS - (time.time() - start_ts)\n",
    "            if delta > 0:\n",
    "                time.sleep(delta)\n",
    "    print(\"Total reward: %.2f\" % total_reward)\n",
    "    print(\"Action counts:\", c)\n",
    "    if args.record:\n",
    "        env.env.close()"
   ]
  },
  {
   "cell_type": "markdown",
   "metadata": {},
   "source": [
    "<br>"
   ]
  }
 ],
 "metadata": {
  "kernelspec": {
   "display_name": "drl",
   "language": "python",
   "name": "drlnd"
  },
  "language_info": {
   "codemirror_mode": {
    "name": "ipython",
    "version": 3
   },
   "file_extension": ".py",
   "mimetype": "text/x-python",
   "name": "python",
   "nbconvert_exporter": "python",
   "pygments_lexer": "ipython3",
   "version": "3.6.10"
  }
 },
 "nbformat": 4,
 "nbformat_minor": 4
}
