{
 "cells": [
  {
   "cell_type": "markdown",
   "metadata": {},
   "source": [
    "# [01] Cross Entropy in Cartpole \n",
    "\n",
    "### Imports & Constants"
   ]
  },
  {
   "cell_type": "code",
   "execution_count": 1,
   "metadata": {},
   "outputs": [],
   "source": [
    "import os\n",
    "import datetime\n",
    "import numpy as np\n",
    "from collections import namedtuple\n",
    "\n",
    "import gym\n",
    "\n",
    "import torch\n",
    "import torch.nn as nn\n",
    "import torch.optim as optim\n",
    "from torch.utils.tensorboard import SummaryWriter\n",
    "\n",
    "\n",
    "HIDDEN_SIZE = 128\n",
    "BATCH_SIZE = 16\n",
    "PERCENTILE = 70"
   ]
  },
  {
   "cell_type": "markdown",
   "metadata": {},
   "source": [
    "<br> \n",
    "\n",
    "### Neural Net"
   ]
  },
  {
   "cell_type": "code",
   "execution_count": 2,
   "metadata": {},
   "outputs": [],
   "source": [
    "class Net(nn.Module):\n",
    "    def __init__(self, obs_size, hidden_size, n_actions):\n",
    "        super(Net, self).__init__()\n",
    "        \n",
    "        self.net = nn.Sequential(\n",
    "            nn.Linear(obs_size, hidden_size),\n",
    "            nn.ReLU(),\n",
    "            nn.Linear(hidden_size, n_actions)\n",
    "        )\n",
    "\n",
    "    def forward(self, x):\n",
    "        return self.net(x)"
   ]
  },
  {
   "cell_type": "markdown",
   "metadata": {},
   "source": [
    "<br> \n",
    "\n",
    "### Helper Functions"
   ]
  },
  {
   "cell_type": "code",
   "execution_count": 3,
   "metadata": {},
   "outputs": [],
   "source": [
    "Episode = namedtuple('Episode', field_names=['reward', 'steps'])\n",
    "EpisodeStep = namedtuple('EpisodeStep', field_names=['observation', 'action'])\n",
    "\n",
    "\n",
    "def sample_episodes(env, network, batch_size):\n",
    "    '''Retrives a batch of episodes ='''\n",
    "    \n",
    "    episodes = [] \n",
    "    episode_steps = [] \n",
    "    episode_reward = 0.0\n",
    "    softmax = nn.Softmax(dim=1)\n",
    "    observation = env.reset()\n",
    "    \n",
    "    while True:\n",
    "        \n",
    "        # Convert observation into tensor \n",
    "        observation_t = torch.FloatTensor([observation])\n",
    "        \n",
    "        # Get action via NN and random sampling \n",
    "        action_probs_t = softmax(network(observation_t))\n",
    "        action_probs = action_probs_t.data.numpy()[0]\n",
    "        action = np.random.choice(len(action_probs), p=action_probs)\n",
    "        \n",
    "        # Take step \n",
    "        next_observation, reward, is_done, _ = env.step(action)\n",
    "        \n",
    "        # Accumulate reward \n",
    "        episode_reward += reward\n",
    "        \n",
    "        # Save step \n",
    "        step = EpisodeStep(observation=observation, action=action)\n",
    "        episode_steps.append(step)\n",
    "        \n",
    "        if is_done:\n",
    "            \n",
    "            # Save episode \n",
    "            episode = Episode(reward=episode_reward, steps=episode_steps)\n",
    "            episodes.append(episode)\n",
    "            \n",
    "            # Reset \n",
    "            episode_reward = 0.0\n",
    "            episode_steps = []\n",
    "            next_observation = env.reset()\n",
    "            \n",
    "            if len(episodes) == batch_size:\n",
    "                \n",
    "                # Return episodes when we've accumulated enough  \n",
    "                yield episodes\n",
    "                episodes = []\n",
    "        \n",
    "        observation = next_observation\n",
    "\n",
    "\n",
    "def filter_episodes(episodes, percentile):\n",
    "    '''Extracts the top/elite episodes'''\n",
    "    \n",
    "    # Extract rewards from episodes \n",
    "    rewards = list(map(lambda s: s.reward, episodes))\n",
    "    \n",
    "    # Calculate reward boundary & mean\n",
    "    reward_boundary = np.percentile(rewards, percentile)\n",
    "    reward_mean = float(np.mean(rewards))\n",
    "\n",
    "    # Save the \"elite\" episodes \n",
    "    train_observations = []\n",
    "    train_actions = []\n",
    "    for reward, steps in episodes:\n",
    "        \n",
    "        if reward < reward_boundary:\n",
    "            continue\n",
    "        \n",
    "        train_observations.extend(map(lambda step: step.observation, steps))\n",
    "        train_actions.extend(map(lambda step: step.action, steps))\n",
    "\n",
    "    # Convert to tensors \n",
    "    train_observations_t = torch.FloatTensor(train_observations)\n",
    "    train_actions_t = torch.LongTensor(train_actions)\n",
    "    \n",
    "    return train_observations_t, \\\n",
    "           train_actions_t, \\\n",
    "           reward_boundary, \\\n",
    "           reward_mean"
   ]
  },
  {
   "cell_type": "markdown",
   "metadata": {},
   "source": [
    "<br> \n",
    "\n",
    "### Main "
   ]
  },
  {
   "cell_type": "code",
   "execution_count": 10,
   "metadata": {},
   "outputs": [
    {
     "name": "stdout",
     "output_type": "stream",
     "text": [
      "(Saving to ./runs/01_runs/2020:09:24-08:58:47)\n",
      "\n",
      "0: loss=0.682, reward_mean=21.1, reward_boundary=23.0\n",
      "1: loss=0.653, reward_mean=23.2, reward_boundary=22.5\n",
      "2: loss=0.667, reward_mean=18.2, reward_boundary=19.5\n",
      "3: loss=0.660, reward_mean=19.8, reward_boundary=20.0\n",
      "4: loss=0.677, reward_mean=24.4, reward_boundary=30.0\n",
      "5: loss=0.657, reward_mean=29.4, reward_boundary=31.0\n",
      "6: loss=0.652, reward_mean=21.5, reward_boundary=26.5\n",
      "7: loss=0.639, reward_mean=25.5, reward_boundary=19.5\n",
      "8: loss=0.633, reward_mean=21.4, reward_boundary=24.5\n",
      "9: loss=0.626, reward_mean=25.5, reward_boundary=28.0\n",
      "10: loss=0.616, reward_mean=28.6, reward_boundary=32.0\n",
      "11: loss=0.608, reward_mean=30.9, reward_boundary=33.0\n",
      "12: loss=0.623, reward_mean=38.4, reward_boundary=45.0\n",
      "13: loss=0.653, reward_mean=49.3, reward_boundary=59.0\n",
      "14: loss=0.603, reward_mean=42.8, reward_boundary=42.0\n",
      "15: loss=0.610, reward_mean=58.8, reward_boundary=68.0\n",
      "16: loss=0.620, reward_mean=48.6, reward_boundary=47.5\n",
      "17: loss=0.619, reward_mean=43.7, reward_boundary=43.5\n",
      "18: loss=0.616, reward_mean=38.4, reward_boundary=45.0\n",
      "19: loss=0.600, reward_mean=39.6, reward_boundary=45.5\n",
      "20: loss=0.598, reward_mean=35.6, reward_boundary=38.0\n",
      "21: loss=0.597, reward_mean=42.7, reward_boundary=45.0\n",
      "22: loss=0.599, reward_mean=56.9, reward_boundary=66.5\n",
      "23: loss=0.567, reward_mean=44.0, reward_boundary=43.5\n",
      "24: loss=0.593, reward_mean=63.9, reward_boundary=77.5\n",
      "25: loss=0.568, reward_mean=63.4, reward_boundary=82.0\n",
      "26: loss=0.555, reward_mean=70.6, reward_boundary=83.0\n",
      "27: loss=0.554, reward_mean=79.2, reward_boundary=95.5\n",
      "28: loss=0.527, reward_mean=85.4, reward_boundary=101.5\n",
      "29: loss=0.539, reward_mean=69.9, reward_boundary=77.0\n",
      "30: loss=0.514, reward_mean=76.7, reward_boundary=83.5\n",
      "31: loss=0.494, reward_mean=62.2, reward_boundary=70.5\n",
      "32: loss=0.528, reward_mean=70.4, reward_boundary=74.5\n",
      "33: loss=0.513, reward_mean=82.2, reward_boundary=94.0\n",
      "34: loss=0.511, reward_mean=90.6, reward_boundary=105.5\n",
      "35: loss=0.508, reward_mean=89.5, reward_boundary=95.0\n",
      "36: loss=0.499, reward_mean=101.1, reward_boundary=115.0\n",
      "37: loss=0.505, reward_mean=98.8, reward_boundary=98.5\n",
      "38: loss=0.509, reward_mean=96.1, reward_boundary=108.5\n",
      "39: loss=0.500, reward_mean=125.3, reward_boundary=147.0\n",
      "40: loss=0.493, reward_mean=108.2, reward_boundary=133.0\n",
      "41: loss=0.499, reward_mean=112.2, reward_boundary=156.0\n",
      "42: loss=0.518, reward_mean=102.6, reward_boundary=124.5\n",
      "43: loss=0.504, reward_mean=89.7, reward_boundary=101.0\n",
      "44: loss=0.497, reward_mean=106.1, reward_boundary=136.0\n",
      "45: loss=0.509, reward_mean=100.4, reward_boundary=115.5\n",
      "46: loss=0.492, reward_mean=128.6, reward_boundary=161.5\n",
      "47: loss=0.516, reward_mean=129.1, reward_boundary=155.5\n",
      "48: loss=0.498, reward_mean=120.1, reward_boundary=138.5\n",
      "49: loss=0.490, reward_mean=136.9, reward_boundary=165.5\n",
      "50: loss=0.509, reward_mean=148.3, reward_boundary=177.0\n",
      "51: loss=0.475, reward_mean=127.3, reward_boundary=153.5\n",
      "52: loss=0.481, reward_mean=127.4, reward_boundary=160.0\n",
      "53: loss=0.520, reward_mean=128.3, reward_boundary=147.0\n",
      "54: loss=0.500, reward_mean=125.8, reward_boundary=145.0\n",
      "55: loss=0.478, reward_mean=123.1, reward_boundary=134.5\n",
      "56: loss=0.510, reward_mean=117.9, reward_boundary=120.5\n",
      "57: loss=0.465, reward_mean=103.0, reward_boundary=127.5\n",
      "58: loss=0.484, reward_mean=129.1, reward_boundary=135.0\n",
      "59: loss=0.479, reward_mean=134.5, reward_boundary=144.0\n",
      "60: loss=0.492, reward_mean=150.8, reward_boundary=165.0\n",
      "61: loss=0.502, reward_mean=134.8, reward_boundary=157.5\n",
      "62: loss=0.461, reward_mean=156.2, reward_boundary=173.5\n",
      "63: loss=0.471, reward_mean=141.6, reward_boundary=168.5\n",
      "64: loss=0.487, reward_mean=161.7, reward_boundary=200.0\n",
      "65: loss=0.481, reward_mean=169.8, reward_boundary=200.0\n",
      "66: loss=0.502, reward_mean=151.4, reward_boundary=197.5\n",
      "67: loss=0.457, reward_mean=126.8, reward_boundary=154.0\n",
      "68: loss=0.451, reward_mean=117.6, reward_boundary=169.5\n",
      "69: loss=0.465, reward_mean=165.8, reward_boundary=198.5\n",
      "70: loss=0.470, reward_mean=121.4, reward_boundary=163.5\n",
      "71: loss=0.475, reward_mean=134.4, reward_boundary=198.5\n",
      "72: loss=0.459, reward_mean=175.2, reward_boundary=200.0\n",
      "73: loss=0.467, reward_mean=170.0, reward_boundary=200.0\n",
      "74: loss=0.485, reward_mean=186.3, reward_boundary=200.0\n",
      "75: loss=0.485, reward_mean=196.2, reward_boundary=200.0\n",
      "76: loss=0.482, reward_mean=185.5, reward_boundary=200.0\n",
      "77: loss=0.481, reward_mean=199.7, reward_boundary=200.0\n",
      "Solved!\n"
     ]
    }
   ],
   "source": [
    "# Create environment \n",
    "env = gym.make(\"CartPole-v0\")\n",
    "#env = gym.wrappers.Monitor(env, \"./recordings/01_recording\", force=True)\n",
    "recording = gym.wrappers.monitoring.video_recorder.VideoRecorder(env, base_path=\"./recordings/01_recording\")\n",
    "\n",
    "# Observation & action space size \n",
    "observation_size = env.observation_space.shape[0]\n",
    "num_actions = env.action_space.n\n",
    "\n",
    "# Network, Loss, Optimizer \n",
    "network = Net(observation_size, HIDDEN_SIZE, num_actions)\n",
    "objective = nn.CrossEntropyLoss()\n",
    "optimizer = optim.Adam(params=network.parameters(), lr=0.01)\n",
    "\n",
    "# Log directory for TensorBoard\n",
    "log_dir = os.path.join('./runs/01_runs', datetime.datetime.now().strftime(\"%Y:%m:%d-%H:%M:%S\"))\n",
    "writer = SummaryWriter(log_dir)\n",
    "print('(Saving to ' + log_dir + ')\\n')\n",
    "\n",
    "# Training \n",
    "for epoch, batch in enumerate(sample_episodes(env, network, BATCH_SIZE)):\n",
    "\n",
    "    recording.capture_frame()\n",
    "    \n",
    "    observations_t, actions_t, reward_boundary, reward_mean = filter_episodes(batch, PERCENTILE)\n",
    "        \n",
    "    optimizer.zero_grad()\n",
    "    action_scores_t = network(observations_t)\n",
    "    loss_t = objective(action_scores_t, actions_t)\n",
    "    loss_t.backward()\n",
    "    optimizer.step()\n",
    "    \n",
    "    print(\"%d: loss=%.3f, reward_mean=%.1f, reward_boundary=%.1f\" % (epoch, loss_t.item(), reward_mean, reward_boundary))\n",
    "    writer.add_scalar(\"Loss\", loss_t.item(), epoch)\n",
    "    writer.add_scalar(\"Reward Boundary\", reward_boundary, epoch)\n",
    "    writer.add_scalar(\"Reward Mean\", reward_mean, epoch)\n",
    "        \n",
    "    if reward_mean > 199:\n",
    "        print(\"Solved!\")\n",
    "        break\n",
    "    \n",
    "writer.close()\n",
    "recording.close()"
   ]
  },
  {
   "cell_type": "markdown",
   "metadata": {},
   "source": [
    "<br> \n",
    "\n",
    "### Play Video"
   ]
  },
  {
   "cell_type": "code",
   "execution_count": 8,
   "metadata": {},
   "outputs": [
    {
     "data": {
      "text/html": [
       "<video src=\"./recordings/01_recording.mp4\" controls  width=\"600\" >\n",
       "      Your browser does not support the <code>video</code> element.\n",
       "    </video>"
      ],
      "text/plain": [
       "<IPython.core.display.Video object>"
      ]
     },
     "execution_count": 8,
     "metadata": {},
     "output_type": "execute_result"
    }
   ],
   "source": [
    "from IPython.display import Video\n",
    "Video(\"./recordings/01_recording.mp4\", width=600)"
   ]
  },
  {
   "cell_type": "markdown",
   "metadata": {},
   "source": [
    "<br> \n",
    "\n",
    "## TensorBoard"
   ]
  },
  {
   "cell_type": "code",
   "execution_count": null,
   "metadata": {},
   "outputs": [],
   "source": [
    "# Upload all experiments \n",
    "!tensorboard dev upload --logdir='./runs/01_runs' --name='01_cross_entropy_cartpole'"
   ]
  },
  {
   "cell_type": "code",
   "execution_count": null,
   "metadata": {},
   "outputs": [],
   "source": [
    "# List all experiments \n",
    "!tensorboard dev list"
   ]
  },
  {
   "cell_type": "markdown",
   "metadata": {},
   "source": [
    "<br>"
   ]
  }
 ],
 "metadata": {
  "kernelspec": {
   "display_name": "drl",
   "language": "python",
   "name": "drlnd"
  },
  "language_info": {
   "codemirror_mode": {
    "name": "ipython",
    "version": 3
   },
   "file_extension": ".py",
   "mimetype": "text/x-python",
   "name": "python",
   "nbconvert_exporter": "python",
   "pygments_lexer": "ipython3",
   "version": "3.6.10"
  }
 },
 "nbformat": 4,
 "nbformat_minor": 4
}
