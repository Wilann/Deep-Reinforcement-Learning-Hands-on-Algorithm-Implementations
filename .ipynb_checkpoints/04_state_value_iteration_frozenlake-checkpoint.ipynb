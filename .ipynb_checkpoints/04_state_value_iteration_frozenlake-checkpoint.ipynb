{
 "cells": [
  {
   "cell_type": "markdown",
   "metadata": {},
   "source": [
    "# [04] State-Value Iteration in Frozen Lake\n",
    "\n",
    "### Imports & Constants"
   ]
  },
  {
   "cell_type": "code",
   "execution_count": 10,
   "metadata": {},
   "outputs": [],
   "source": [
    "import gym\n",
    "import collections\n",
    "import os\n",
    "import datetime\n",
    "from torch.utils.tensorboard import SummaryWriter\n",
    "\n",
    "ENV_NAME = \"FrozenLake-v0\"\n",
    "#ENV_NAME = \"FrozenLake8x8-v0\"      # uncomment for larger version\n",
    "GAMMA = 0.9\n",
    "NUM_TEST_EPISODES = 20"
   ]
  },
  {
   "cell_type": "markdown",
   "metadata": {},
   "source": [
    "<br> \n",
    "\n",
    "### Agent\n",
    "\n",
    "`rewards`: $ rewards[(s, a, s')] = \\{ c \\} $\n",
    "\n",
    "`transitions`: $ transitions[(s, a)] = \\{ s_1:c_1, s_2:c_2, ... \\} $\n",
    "\n",
    "`state_values`: $ state\\text{_}values[(s)] = \\{ v \\} $"
   ]
  },
  {
   "cell_type": "code",
   "execution_count": 36,
   "metadata": {},
   "outputs": [],
   "source": [
    "class Agent:\n",
    "    \n",
    "    def __init__(self):\n",
    "        \n",
    "        # Create & reset environment \n",
    "        self.env = gym.make(ENV_NAME)\n",
    "        self.state = self.env.reset()\n",
    "        \n",
    "        # Create dictionaries for rewards, transitions & state-values\n",
    "        self.rewards = collections.defaultdict(float)\n",
    "        self.transitions = collections.defaultdict(collections.Counter)\n",
    "        self.state_values = collections.defaultdict(float)\n",
    "\n",
    "    def play_n_random_steps(self, num_steps):\n",
    "        '''Play `num_steps` steps in environment'''\n",
    "        \n",
    "        for _ in range(num_steps):\n",
    "            \n",
    "            # Sample random action & take step in environment \n",
    "            action = self.env.action_space.sample()\n",
    "            new_state, reward, is_done, _ = self.env.step(action)\n",
    "            \n",
    "            # Update rewards & transitions\n",
    "            self.rewards[(self.state, action, new_state)] = reward\n",
    "            self.transitions[(self.state, action)][new_state] += 1\n",
    "            \n",
    "            # Update state \n",
    "            self.state = self.env.reset() if is_done else new_state\n",
    "\n",
    "    def calc_action_value(self, state, action):\n",
    "        '''Calculate action value, Q, for (state, action) tuple'''\n",
    "        \n",
    "        # Counts of each state \n",
    "        # target_counts = {s_1:c_1, s_2:c_2, ... }\n",
    "        target_counts = self.transitions[(state, action)]\n",
    "        \n",
    "        # Sum of counts of each state \n",
    "        total = sum(target_counts.values())\n",
    "        \n",
    "        action_value = 0.0\n",
    "        \n",
    "        # Calculate action values for all possible states from `state`\n",
    "        for target_state, count in target_counts.items():\n",
    "            reward = self.rewards[(state, action, target_state)]\n",
    "            value = reward + GAMMA * self.state_values[target_state]\n",
    "            action_value += (count / total) * value\n",
    "            \n",
    "        return action_value\n",
    "\n",
    "    def select_action(self, state):\n",
    "        '''Select best action from `state`'''\n",
    "        \n",
    "        best_action, best_action_value = None, None\n",
    "        \n",
    "        for action in range(self.env.action_space.n):\n",
    "            \n",
    "            # Calculate action value for all possible actions \n",
    "            action_value = self.calc_action_value(state, action)\n",
    "            \n",
    "            # Update best action value \n",
    "            if best_action_value is None or best_action_value < action_value:\n",
    "                best_action_value = action_value\n",
    "                best_action = action\n",
    "        \n",
    "        return best_action\n",
    "\n",
    "    def play_episode(self, env):\n",
    "        '''Play a single episode'''\n",
    "\n",
    "        # Reset environment \n",
    "        total_reward = 0.0\n",
    "        state = env.reset()\n",
    "        \n",
    "        while True:\n",
    "            \n",
    "            # Select action and take step \n",
    "            action = self.select_action(state)\n",
    "            new_state, reward, is_done, _ = env.step(action)\n",
    "            \n",
    "            # Update rewards, transitions & total reward \n",
    "            self.rewards[(state, action, new_state)] = reward\n",
    "            self.transitions[(state, action)][new_state] += 1\n",
    "            total_reward += reward\n",
    "            \n",
    "            if is_done:\n",
    "                break\n",
    "            state = new_state\n",
    "        \n",
    "        return total_reward\n",
    "\n",
    "    def value_iteration(self):\n",
    "        '''State-Value Iteration for all states'''\n",
    "        \n",
    "        for state in range(self.env.observation_space.n):\n",
    "            \n",
    "            # Calculate all possible action values \n",
    "            action_values = [self.calc_action_value(state, action) for action in range(self.env.action_space.n)]\n",
    "            \n",
    "            # The state_value is the maximum action value \n",
    "            self.state_values[state] = max(action_values)"
   ]
  },
  {
   "cell_type": "markdown",
   "metadata": {},
   "source": [
    "##### `value_iteration()` Fromula\n",
    "$ V(s) = \\text{max}_{a \\in A} Q(s,a) $\n",
    "\n",
    "<br> \n",
    "\n",
    "### Main"
   ]
  },
  {
   "cell_type": "code",
   "execution_count": 40,
   "metadata": {},
   "outputs": [
    {
     "name": "stdout",
     "output_type": "stream",
     "text": [
      "Best reward updated 0.000 -> 0.250\n",
      "Best reward updated 0.250 -> 0.650\n",
      "Best reward updated 0.650 -> 0.700\n",
      "Best reward updated 0.700 -> 0.800\n",
      "Best reward updated 0.800 -> 0.900\n",
      "Solved in 82 iterations!\n"
     ]
    }
   ],
   "source": [
    "# Create environment & agent \n",
    "test_env = gym.make(ENV_NAME)\n",
    "agent = Agent()\n",
    "\n",
    "# Initialize Tensorboard \n",
    "log_dir = os.path.join('./runs/04_runs', datetime.datetime.now().strftime(\"%Y:%m:%d-%H:%M:%S\"))\n",
    "writer = SummaryWriter(log_dir)\n",
    "\n",
    "iter_no = 0\n",
    "best_reward = 0.0\n",
    "\n",
    "while True:\n",
    "    iter_no += 1\n",
    "    \n",
    "    # Play random steps to fill `rewards` and `transitions` tables with new data \n",
    "    agent.play_n_random_steps(100)\n",
    "    \n",
    "    # State-value iteration over all states \n",
    "    agent.value_iteration()\n",
    "\n",
    "    # Play `NUM_TEST_EPISODES` episodes and accumulate the reward \n",
    "    reward = 0.0\n",
    "    for _ in range(NUM_TEST_EPISODES):\n",
    "        reward += agent.play_episode(test_env)\n",
    "    reward /= NUM_TEST_EPISODES\n",
    "    writer.add_scalar(\"reward\", reward, iter_no)\n",
    "        \n",
    "    # If we have a new best reward \n",
    "    if reward > best_reward:\n",
    "        print(\"Best reward updated %.3f -> %.3f\" % (best_reward, reward))\n",
    "        best_reward = reward\n",
    "    \n",
    "    # If we've solved the environment\n",
    "    if reward > 0.80:\n",
    "        print(\"Solved in %d iterations!\" % iter_no)\n",
    "        break\n",
    "\n",
    "writer.close()"
   ]
  },
  {
   "cell_type": "markdown",
   "metadata": {},
   "source": [
    "<br>\n",
    "\n",
    "### Tensorboard"
   ]
  },
  {
   "cell_type": "code",
   "execution_count": null,
   "metadata": {},
   "outputs": [],
   "source": [
    "!tensorboard dev upload --logdir='./runs/04_runs' --name='04_state_value_iteration_frozenlake'"
   ]
  },
  {
   "cell_type": "markdown",
   "metadata": {},
   "source": [
    "<img src='./runs/04_runs/tensorboard.png'>\n",
    "\n",
    "<br>"
   ]
  }
 ],
 "metadata": {
  "kernelspec": {
   "display_name": "drl",
   "language": "python",
   "name": "drlnd"
  },
  "language_info": {
   "codemirror_mode": {
    "name": "ipython",
    "version": 3
   },
   "file_extension": ".py",
   "mimetype": "text/x-python",
   "name": "python",
   "nbconvert_exporter": "python",
   "pygments_lexer": "ipython3",
   "version": "3.6.10"
  }
 },
 "nbformat": 4,
 "nbformat_minor": 4
}
