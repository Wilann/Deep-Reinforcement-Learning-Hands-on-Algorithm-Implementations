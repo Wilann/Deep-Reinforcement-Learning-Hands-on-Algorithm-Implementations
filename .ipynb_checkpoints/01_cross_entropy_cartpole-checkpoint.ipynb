{
 "cells": [
  {
   "cell_type": "markdown",
   "metadata": {},
   "source": [
    "# [01] Cross Entropy in Cartpole \n",
    "\n",
    "### Imports & Constants"
   ]
  },
  {
   "cell_type": "code",
   "execution_count": 19,
   "metadata": {},
   "outputs": [],
   "source": [
    "import os\n",
    "import datetime\n",
    "import numpy as np\n",
    "from collections import namedtuple\n",
    "\n",
    "import gym\n",
    "\n",
    "import torch\n",
    "import torch.nn as nn\n",
    "import torch.optim as optim\n",
    "from torch.utils.tensorboard import SummaryWriter\n",
    "\n",
    "\n",
    "HIDDEN_SIZE = 128\n",
    "BATCH_SIZE = 16\n",
    "PERCENTILE = 70"
   ]
  },
  {
   "cell_type": "markdown",
   "metadata": {},
   "source": [
    "<br> \n",
    "\n",
    "### Neural Net"
   ]
  },
  {
   "cell_type": "code",
   "execution_count": 2,
   "metadata": {},
   "outputs": [],
   "source": [
    "class Net(nn.Module):\n",
    "    def __init__(self, obs_size, hidden_size, n_actions):\n",
    "        super(Net, self).__init__()\n",
    "        \n",
    "        self.net = nn.Sequential(\n",
    "            nn.Linear(obs_size, hidden_size),\n",
    "            nn.ReLU(),\n",
    "            nn.Linear(hidden_size, n_actions)\n",
    "        )\n",
    "\n",
    "    def forward(self, x):\n",
    "        return self.net(x)"
   ]
  },
  {
   "cell_type": "markdown",
   "metadata": {},
   "source": [
    "<br> \n",
    "\n",
    "### Helper Functions"
   ]
  },
  {
   "cell_type": "code",
   "execution_count": 62,
   "metadata": {},
   "outputs": [],
   "source": [
    "Episode = namedtuple('Episode', field_names=['reward', 'steps'])\n",
    "EpisodeStep = namedtuple('EpisodeStep', field_names=['observation', 'action'])\n",
    "\n",
    "\n",
    "def sample_episodes(env, network, batch_size):\n",
    "    '''Retrives a batch of episodes ='''\n",
    "    \n",
    "    episodes = [] \n",
    "    episode_steps = [] \n",
    "    episode_reward = 0.0\n",
    "    softmax = nn.Softmax(dim=1)\n",
    "    observation = env.reset()\n",
    "    \n",
    "    while True:\n",
    "        \n",
    "        # Convert observation into tensor \n",
    "        observation_t = torch.FloatTensor([observation])\n",
    "        \n",
    "        # Get action via NN and random sampling \n",
    "        action_probs_t = softmax(network(observation_t))\n",
    "        action_probs = action_probs_t.data.numpy()[0]\n",
    "        action = np.random.choice(len(action_probs), p=action_probs)\n",
    "        \n",
    "        # Take step \n",
    "        next_observation, reward, is_done, _ = env.step(action)\n",
    "        \n",
    "        # Accumulate reward \n",
    "        episode_reward += reward\n",
    "        \n",
    "        # Save step \n",
    "        step = EpisodeStep(observation=observation, action=action)\n",
    "        episode_steps.append(step)\n",
    "        \n",
    "        if is_done:\n",
    "            \n",
    "            # Save episode \n",
    "            episode = Episode(reward=episode_reward, steps=episode_steps)\n",
    "            episodes.append(episode)\n",
    "            \n",
    "            # Reset \n",
    "            episode_reward = 0.0\n",
    "            episode_steps = []\n",
    "            next_observation = env.reset()\n",
    "            \n",
    "            if len(episodes) == batch_size:\n",
    "                \n",
    "                # Return episodes when we've accumulated enough  \n",
    "                yield episodes\n",
    "                episodes = []\n",
    "        \n",
    "        observation = next_observation\n",
    "\n",
    "\n",
    "def filter_episodes(episodes, percentile):\n",
    "    '''Extracts the top/elite episodes'''\n",
    "    \n",
    "    # Extract rewards from episodes \n",
    "    rewards = list(map(lambda s: s.reward, episodes))\n",
    "    \n",
    "    # Calculate reward boundary & mean\n",
    "    reward_boundary = np.percentile(rewards, percentile)\n",
    "    reward_mean = float(np.mean(rewards))\n",
    "\n",
    "    # Save the \"elite\" episodes \n",
    "    train_observations = []\n",
    "    train_actions = []\n",
    "    for reward, steps in episodes:\n",
    "        \n",
    "        if reward < reward_boundary:\n",
    "            continue\n",
    "        \n",
    "        train_observations.extend(map(lambda step: step.observation, steps))\n",
    "        train_actions.extend(map(lambda step: step.action, steps))\n",
    "\n",
    "    # Convert to tensors \n",
    "    train_observations_t = torch.FloatTensor(train_observations)\n",
    "    train_actions_t = torch.LongTensor(train_actions)\n",
    "    \n",
    "    return train_observations_t, \\\n",
    "           train_actions_t, \\\n",
    "           reward_boundary, \\\n",
    "           reward_mean"
   ]
  },
  {
   "cell_type": "markdown",
   "metadata": {},
   "source": [
    "<br> \n",
    "\n",
    "### Main "
   ]
  },
  {
   "cell_type": "code",
   "execution_count": 77,
   "metadata": {},
   "outputs": [
    {
     "name": "stdout",
     "output_type": "stream",
     "text": [
      "(Saving to ./01_runs/2020:09:17-123443)\n",
      "\n",
      "0: loss=0.686, reward_mean=23.0, reward_boundary=28.0\n",
      "1: loss=0.688, reward_mean=25.3, reward_boundary=30.0\n",
      "2: loss=0.682, reward_mean=27.2, reward_boundary=27.0\n",
      "3: loss=0.656, reward_mean=30.0, reward_boundary=31.0\n",
      "4: loss=0.660, reward_mean=39.8, reward_boundary=44.0\n",
      "5: loss=0.639, reward_mean=51.4, reward_boundary=64.0\n",
      "6: loss=0.627, reward_mean=63.1, reward_boundary=86.5\n",
      "7: loss=0.624, reward_mean=50.1, reward_boundary=66.5\n",
      "8: loss=0.630, reward_mean=66.9, reward_boundary=93.0\n",
      "9: loss=0.598, reward_mean=76.2, reward_boundary=92.5\n",
      "10: loss=0.597, reward_mean=80.9, reward_boundary=104.0\n",
      "11: loss=0.599, reward_mean=80.8, reward_boundary=115.0\n",
      "12: loss=0.591, reward_mean=92.1, reward_boundary=118.5\n",
      "13: loss=0.586, reward_mean=92.0, reward_boundary=116.5\n",
      "14: loss=0.575, reward_mean=84.2, reward_boundary=91.0\n",
      "15: loss=0.560, reward_mean=103.4, reward_boundary=121.0\n",
      "16: loss=0.586, reward_mean=114.0, reward_boundary=130.0\n",
      "17: loss=0.571, reward_mean=113.2, reward_boundary=131.0\n",
      "18: loss=0.560, reward_mean=118.2, reward_boundary=142.5\n",
      "19: loss=0.568, reward_mean=116.1, reward_boundary=141.5\n",
      "20: loss=0.554, reward_mean=122.9, reward_boundary=138.0\n",
      "21: loss=0.537, reward_mean=125.6, reward_boundary=150.0\n",
      "22: loss=0.532, reward_mean=142.1, reward_boundary=158.5\n",
      "23: loss=0.541, reward_mean=161.8, reward_boundary=183.5\n",
      "24: loss=0.533, reward_mean=141.6, reward_boundary=161.5\n",
      "25: loss=0.532, reward_mean=160.7, reward_boundary=192.0\n",
      "26: loss=0.512, reward_mean=183.8, reward_boundary=200.0\n",
      "27: loss=0.526, reward_mean=159.8, reward_boundary=187.0\n",
      "28: loss=0.523, reward_mean=151.7, reward_boundary=184.5\n",
      "29: loss=0.488, reward_mean=167.7, reward_boundary=200.0\n",
      "30: loss=0.501, reward_mean=165.8, reward_boundary=183.0\n",
      "31: loss=0.489, reward_mean=170.1, reward_boundary=199.0\n",
      "32: loss=0.493, reward_mean=161.1, reward_boundary=198.0\n",
      "33: loss=0.490, reward_mean=192.1, reward_boundary=200.0\n",
      "34: loss=0.500, reward_mean=171.9, reward_boundary=200.0\n",
      "35: loss=0.486, reward_mean=180.3, reward_boundary=200.0\n",
      "36: loss=0.490, reward_mean=192.8, reward_boundary=200.0\n",
      "37: loss=0.483, reward_mean=181.0, reward_boundary=200.0\n",
      "38: loss=0.483, reward_mean=190.6, reward_boundary=200.0\n",
      "39: loss=0.499, reward_mean=193.7, reward_boundary=200.0\n",
      "40: loss=0.483, reward_mean=198.1, reward_boundary=200.0\n",
      "41: loss=0.480, reward_mean=195.8, reward_boundary=200.0\n",
      "42: loss=0.475, reward_mean=198.8, reward_boundary=200.0\n",
      "43: loss=0.492, reward_mean=192.1, reward_boundary=200.0\n",
      "44: loss=0.478, reward_mean=198.4, reward_boundary=200.0\n",
      "45: loss=0.486, reward_mean=200.0, reward_boundary=200.0\n",
      "Solved!\n"
     ]
    }
   ],
   "source": [
    "# Create environment \n",
    "env = gym.make(\"CartPole-v0\")\n",
    "# env = gym.wrappers.Monitor(env, directory=\"monitor\", force=True)\n",
    "\n",
    "# Observation & action space size \n",
    "observation_size = env.observation_space.shape[0]\n",
    "num_actions = env.action_space.n\n",
    "\n",
    "# Network, Loss, Optimizer \n",
    "network = Net(observation_size, HIDDEN_SIZE, num_actions)\n",
    "objective = nn.CrossEntropyLoss()\n",
    "optimizer = optim.Adam(params=network.parameters(), lr=0.01)\n",
    "\n",
    "# Log directory for TensorBoard\n",
    "log_dir = os.path.join('./01_runs', datetime.datetime.now().strftime(\"%Y:%m:%d-%H%M%S\"))\n",
    "writer = SummaryWriter(log_dir)\n",
    "print('(Saving to ' + log_dir + ')\\n')\n",
    "\n",
    "# Training \n",
    "for epoch, batch in enumerate(sample_episodes(env, network, BATCH_SIZE)):\n",
    "        \n",
    "    observations_t, actions_t, reward_boundary, reward_mean = filter_episodes(batch, PERCENTILE)\n",
    "        \n",
    "    optimizer.zero_grad()\n",
    "    action_scores_t = network(observations_t)\n",
    "    loss_t = objective(action_scores_t, actions_t)\n",
    "    loss_t.backward()\n",
    "    optimizer.step()\n",
    "    \n",
    "    print(\"%d: loss=%.3f, reward_mean=%.1f, reward_boundary=%.1f\" % (epoch, loss_t.item(), reward_mean, reward_boundary))\n",
    "    writer.add_scalar(\"Loss\", loss_t.item(), epoch)\n",
    "    writer.add_scalar(\"Reward Boundary\", reward_boundary, epoch)\n",
    "    writer.add_scalar(\"Reward Mean\", reward_mean, epoch)\n",
    "        \n",
    "    if reward_mean > 199:\n",
    "        print(\"Solved!\")\n",
    "        break\n",
    "    \n",
    "writer.close()"
   ]
  },
  {
   "cell_type": "markdown",
   "metadata": {},
   "source": [
    "<br> \n",
    "\n",
    "## TensorBoard"
   ]
  },
  {
   "cell_type": "code",
   "execution_count": null,
   "metadata": {},
   "outputs": [],
   "source": [
    "# Upload all experiments \n",
    "!tensorboard dev upload --logdir='./01_runs' --name='01_cross_entropy_cartpole'"
   ]
  },
  {
   "cell_type": "code",
   "execution_count": null,
   "metadata": {},
   "outputs": [],
   "source": [
    "# List all experiments \n",
    "!tensorboard dev list"
   ]
  },
  {
   "cell_type": "markdown",
   "metadata": {},
   "source": [
    "<br>"
   ]
  }
 ],
 "metadata": {
  "kernelspec": {
   "display_name": "drl",
   "language": "python",
   "name": "drlnd"
  },
  "language_info": {
   "codemirror_mode": {
    "name": "ipython",
    "version": 3
   },
   "file_extension": ".py",
   "mimetype": "text/x-python",
   "name": "python",
   "nbconvert_exporter": "python",
   "pygments_lexer": "ipython3",
   "version": "3.6.10"
  }
 },
 "nbformat": 4,
 "nbformat_minor": 4
}
