{
 "cells": [
  {
   "cell_type": "markdown",
   "metadata": {},
   "source": [
    "# [07] Deep Q-Learning in Pong\n",
    "\n",
    "### Imports & Constants "
   ]
  },
  {
   "cell_type": "code",
   "execution_count": 1,
   "metadata": {},
   "outputs": [],
   "source": [
    "import time, datetime, collections, os\n",
    "import numpy as np\n",
    "\n",
    "import torch\n",
    "import torch.nn as nn\n",
    "import torch.optim as optim\n",
    "from torch.utils.tensorboard import SummaryWriter\n",
    "\n",
    "from lib import wrappers, dqn_model\n",
    "\n",
    "\n",
    "DEFAULT_ENV_NAME = \"PongNoFrameskip-v4\"\n",
    "MEAN_REWARD_BOUND = 19  # Mean reward boundary \n",
    "\n",
    "GAMMA = 0.99  # Used for bellman approximation \n",
    "BATCH_SIZE = 32  # Batch size to be sampled from replay buffer \n",
    "REPLAY_SIZE = 10000  # Maximum size of replay buffer \n",
    "\n",
    "LEARNING_RATE = 1e-4\n",
    "REPLAY_START_SIZE = 10000  # Number of frames we wait for, before starting training, to fill the replay buffer \n",
    "\n",
    "# Model sync freqeuncy (from training model --> to target model)\n",
    "# Used to get the value of the next state \n",
    "SYNC_TARGET_FRAMES = 1000  \n",
    "\n",
    "\n",
    "EPSILON_START = 1.0  # Start by selecting all actions randomly \n",
    "\n",
    "# In the first `EPSILON_DECAY_LAST_FRAME` frames, epsilon decays to 0.01\n",
    "# This corresponds to a random action taken on 1% of the steps \n",
    "EPSILON_DECAY_LAST_FRAME = 150000\n",
    "EPSILON_FINAL = 0.01  "
   ]
  },
  {
   "cell_type": "markdown",
   "metadata": {},
   "source": [
    "<br> \n",
    "\n",
    "### Sanity-Checking\n",
    "\n",
    "##### Calculating Conv2D Dimensions\n",
    "<img src='images/conv2d_dimension_calculation.png' style=\"width:700px;height:400px;\">\n",
    "\n",
    "##### Testing `__init__`"
   ]
  },
  {
   "cell_type": "code",
   "execution_count": 2,
   "metadata": {},
   "outputs": [
    {
     "name": "stdout",
     "output_type": "stream",
     "text": [
      "DQN(\n",
      "  (conv): Sequential(\n",
      "    (0): Conv2d(4, 32, kernel_size=(8, 8), stride=(4, 4))\n",
      "    (1): ReLU()\n",
      "    (2): Conv2d(32, 64, kernel_size=(4, 4), stride=(2, 2))\n",
      "    (3): ReLU()\n",
      "    (4): Conv2d(64, 64, kernel_size=(3, 3), stride=(1, 1))\n",
      "    (5): ReLU()\n",
      "  )\n",
      "  (fc): Sequential(\n",
      "    (0): Linear(in_features=3136, out_features=512, bias=True)\n",
      "    (1): ReLU()\n",
      "    (2): Linear(in_features=512, out_features=6, bias=True)\n",
      "  )\n",
      ")\n"
     ]
    }
   ],
   "source": [
    "env = wrappers.make_env(DEFAULT_ENV_NAME)\n",
    "input_shape = env.observation_space.shape\n",
    "n_actions = env.action_space.n\n",
    "model = dqn_model.DQN(input_shape, n_actions)\n",
    "print(model)"
   ]
  },
  {
   "cell_type": "markdown",
   "metadata": {},
   "source": [
    "##### Testing `_get_conv_out`"
   ]
  },
  {
   "cell_type": "code",
   "execution_count": 3,
   "metadata": {},
   "outputs": [
    {
     "name": "stdout",
     "output_type": "stream",
     "text": [
      "(4, 84, 84)\n",
      "torch.Size([1, 64, 7, 7])\n",
      "3136\n"
     ]
    }
   ],
   "source": [
    "conv = nn.Sequential(\n",
    "            nn.Conv2d(input_shape[0], 32, kernel_size=8, stride=4), # (4, 84, 84) --> (32, 20, 20)\n",
    "            nn.ReLU(),\n",
    "            nn.Conv2d(32, 64, kernel_size=4, stride=2), # (32, 20, 20) --> (64, 9, 9)\n",
    "            nn.ReLU(),\n",
    "            nn.Conv2d(64, 64, kernel_size=3, stride=1), # (64, 9, 9) --> (64, 7, 7)\n",
    "            nn.ReLU()\n",
    "        )\n",
    "o = conv(torch.zeros(1, *input_shape))\n",
    "num_parameters = int(np.prod(o.size()))\n",
    "\n",
    "print(input_shape)\n",
    "print(o.size())\n",
    "print(num_parameters)"
   ]
  },
  {
   "cell_type": "markdown",
   "metadata": {},
   "source": [
    "##### Testing `forward`"
   ]
  },
  {
   "cell_type": "code",
   "execution_count": 4,
   "metadata": {},
   "outputs": [
    {
     "name": "stdout",
     "output_type": "stream",
     "text": [
      "(4, 84, 84)\n",
      "torch.Size([1, 4, 84, 84])\n",
      "torch.Size([1, 3136])\n",
      "torch.Size([1, 6])\n"
     ]
    }
   ],
   "source": [
    "fc = nn.Sequential(\n",
    "            nn.Linear(3136, 512), # 3136 --> 512\n",
    "            nn.ReLU(),\n",
    "            nn.Linear(512, n_actions) # 512 --> 6\n",
    "        )\n",
    "\n",
    "state = env.reset()\n",
    "state_a = np.array([state], copy=False)\n",
    "state_v = torch.tensor(state_a)\n",
    "\n",
    "conv_out = conv(state_v).view(state_v.size()[0], -1) # (1, 4, 84, 84) --> (1, 3136)\n",
    "fc_out = fc(conv_out) # (1, 3136) --> (1, 6)\n",
    "\n",
    "print(state.shape)\n",
    "print(state_v.shape)\n",
    "print(conv_out.shape)\n",
    "print(fc_out.shape)"
   ]
  },
  {
   "cell_type": "markdown",
   "metadata": {},
   "source": [
    "<br> \n",
    "\n",
    "### Experience Replay Buffer "
   ]
  },
  {
   "cell_type": "code",
   "execution_count": 5,
   "metadata": {},
   "outputs": [],
   "source": [
    "Experience = collections.namedtuple('Experience', field_names=['state', 'action', 'reward', 'done', 'new_state'])\n",
    "\n",
    "class ExperienceBuffer:\n",
    "    '''Experience Replay Buffer to break correlations between subsequent steps in the environment'''\n",
    "    \n",
    "    def __init__(self, capacity):\n",
    "        self.buffer = collections.deque(maxlen=capacity)\n",
    "\n",
    "    def __len__(self):\n",
    "        return len(self.buffer)\n",
    "\n",
    "    def append(self, experience):\n",
    "        '''Appends `experience` to breplay buffer'''\n",
    "        \n",
    "        self.buffer.append(experience)\n",
    "\n",
    "    def sample(self, batch_size):\n",
    "        '''\n",
    "        Samples `batch_size` number of experiences from the buffer\n",
    "        Requirement: len(self.buffer) > batch_size\n",
    "        '''\n",
    "        \n",
    "        # Create list of random indices (from 1-`len(self.buffer)`) of size `batch_size`\n",
    "        # Note: Without replacement, so there CAN'T be duplicates\n",
    "        indices = np.random.choice(len(self.buffer), batch_size, replace=False)\n",
    "        \n",
    "        # Sample experience tuples from buffers \n",
    "        # Then split them up in: `states`, `actions`, `rewards`, `dones`, and `next_states`\n",
    "        states, actions, rewards, dones, next_states = zip(*[self.buffer[idx] for idx in indices])\n",
    "        \n",
    "        return np.array(states), \\\n",
    "               np.array(actions), \\\n",
    "               np.array(rewards, dtype=np.float32), \\\n",
    "               np.array(dones, dtype=np.uint8), \\\n",
    "               np.array(next_states)"
   ]
  },
  {
   "cell_type": "markdown",
   "metadata": {},
   "source": [
    "##### Testing `ExperienceBuffer`"
   ]
  },
  {
   "cell_type": "code",
   "execution_count": 6,
   "metadata": {},
   "outputs": [
    {
     "name": "stdout",
     "output_type": "stream",
     "text": [
      "[0 1]\n",
      "[('s0', 'a0', 'r0', 'd0', \"s'0\"), ('s1', 'a1', 'r1', 'd1', \"s'1\")]\n",
      "('s0', 's1') ('a0', 'a1') ('r0', 'r1') ('d0', 'd1') (\"s'0\", \"s'1\")\n",
      "['s0' 's1'] ['a0' 'a1'] ['r0' 'r1'] ['d0' 'd1'] [\"s'0\" \"s'1\"]\n"
     ]
    }
   ],
   "source": [
    "buffer = collections.deque(maxlen=100)\n",
    "buffer.append((\"s0\", \"a0\", \"r0\", \"d0\", \"s'0\"))\n",
    "buffer.append((\"s1\", \"a1\", \"r1\", \"d1\", \"s'1\"))\n",
    "buffer.append((\"s2\", \"a2\", \"r2\", \"d2\", \"s'2\"))\n",
    "buffer.append((\"s3\", \"a3\", \"r3\", \"d3\", \"s'3\"))\n",
    "\n",
    "batch_size=2\n",
    "indices = np.random.choice(len(buffer), batch_size, replace=False)\n",
    "states, actions, rewards, dones, next_states = zip(*[buffer[idx] for idx in indices])\n",
    "\n",
    "print(indices)\n",
    "print([buffer[idx] for idx in indices])\n",
    "print(states, actions, rewards, dones, next_states)\n",
    "print(np.array(states), np.array(actions), np.array(rewards), np.array(dones), np.array(next_states))"
   ]
  },
  {
   "cell_type": "markdown",
   "metadata": {},
   "source": [
    "<br> \n",
    "\n",
    "### Agent"
   ]
  },
  {
   "cell_type": "code",
   "execution_count": 7,
   "metadata": {},
   "outputs": [],
   "source": [
    "class Agent:\n",
    "    def __init__(self, env, exp_buffer):\n",
    "        self.env = env  # Environment \n",
    "        self.exp_buffer = exp_buffer  # Replay Buffer \n",
    "        self._reset()  # Reset the `state` and `total_reward` \n",
    "\n",
    "    def _reset(self):\n",
    "        '''Resets environment and reward '''\n",
    "        \n",
    "        self.state = env.reset()\n",
    "        self.total_reward = 0.0\n",
    "\n",
    "    @torch.no_grad()\n",
    "    def play_step(self, net, epsilon=0.0, device=\"cpu\"):\n",
    "        '''Takes a step in the environment'''\n",
    "        \n",
    "        done_reward = None\n",
    "\n",
    "        # Epsilon-Greedy Policy \n",
    "        if np.random.random() < epsilon:\n",
    "            \n",
    "            # Take random action \n",
    "            action = env.action_space.sample()\n",
    "            \n",
    "        else:\n",
    "            \n",
    "            # Get Q_values for all possible actions and choose the best one \n",
    "            state_a = np.array([self.state], copy=False)  # Action \n",
    "            state_v = torch.tensor(state_a).to(device)  # Action tensor\n",
    "            q_vals_v = net(state_v)  # Q-values (tensor)\n",
    "            _, act_v = torch.max(q_vals_v, dim=1)  # Highest Q-value (tensor)\n",
    "            action = int(act_v.item())  # Extracting value \n",
    "\n",
    "        # Take step \n",
    "        new_state, reward, is_done, _ = self.env.step(action)\n",
    "        self.total_reward += reward\n",
    "\n",
    "        # Save experience \n",
    "        exp = Experience(self.state, action, reward, is_done, new_state)\n",
    "        self.exp_buffer.append(exp)\n",
    "        \n",
    "        # Prepare for next step \n",
    "        self.state = new_state\n",
    "        \n",
    "        # If environment is over \n",
    "        if is_done:\n",
    "            done_reward = self.total_reward\n",
    "            self._reset()\n",
    "            \n",
    "        return done_reward"
   ]
  },
  {
   "cell_type": "markdown",
   "metadata": {},
   "source": [
    "##### Testing `Agent`"
   ]
  },
  {
   "cell_type": "code",
   "execution_count": 8,
   "metadata": {},
   "outputs": [
    {
     "name": "stdout",
     "output_type": "stream",
     "text": [
      "Action Shape: \t\t (1, 4, 84, 84)\n",
      "Action Tensor Shape: \t torch.Size([1, 4, 84, 84])\n",
      "Q-Values: \t\t tensor([[ 0.0252, -0.0372, -0.0371, -0.0407,  0.0242,  0.0233]])\n",
      "Highest Q-Value: \t tensor([0])\n",
      "Best Action: \t\t 0\n"
     ]
    }
   ],
   "source": [
    "env = wrappers.make_env(DEFAULT_ENV_NAME)\n",
    "state = env.reset()\n",
    "total_reward = 0\n",
    "\n",
    "state_a = np.array([state], copy=False)\n",
    "state_v = torch.tensor(state_a)\n",
    "q_vals_v = model(state_v)\n",
    "_, act_v = torch.max(q_vals_v, dim=1)\n",
    "action = int(act_v.item())\n",
    "\n",
    "print('Action Shape: \\t\\t', state_a.shape)\n",
    "print('Action Tensor Shape: \\t', state_v.shape)\n",
    "print('Q-Values: \\t\\t', q_vals_v.data)\n",
    "print('Highest Q-Value: \\t', act_v)\n",
    "print('Best Action: \\t\\t', action)"
   ]
  },
  {
   "cell_type": "markdown",
   "metadata": {},
   "source": [
    "<br> \n",
    "\n",
    "### Calculate Loss\n",
    "\n",
    "For steps not at the end of te episode: \n",
    "$ L = \\Big( Q(s,a) - \\big(r + \\gamma \\max_{a' \\in A} \\hat{Q}(s',a') \\big) \\Big)^2 $  \n",
    "For final steps: \n",
    "$ L = \\big( Q(s, a) - r \\big)^2 $"
   ]
  },
  {
   "cell_type": "code",
   "execution_count": 9,
   "metadata": {},
   "outputs": [],
   "source": [
    "def calc_loss(batch, net, tgt_net, device=\"cpu\"):\n",
    "    '''\n",
    "    Calculates loss for a batch of experiences\n",
    "    \n",
    "    net: \n",
    "    - Network we're training\n",
    "    - Used to calculate gradients\n",
    "    \n",
    "    tgt_net: \n",
    "    - Target Network\n",
    "    - Is periodically synced with `net`\n",
    "    - Calculates values for the next states (this doesn't affect the gradients)\n",
    "    '''\n",
    "    \n",
    "    # Extract `states`, `actions`, `rewards`, `dones`, and `next_states`\n",
    "    states, actions, rewards, dones, next_states = batch\n",
    "\n",
    "    # Convert to tensors and move to `device`\n",
    "    states_v = torch.tensor(np.array(states, copy=False)).to(device) \n",
    "    next_states_v = torch.tensor(np.array(next_states, copy=False)).to(device) \n",
    "    actions_v = torch.tensor(actions).to(device)\n",
    "    rewards_v = torch.tensor(rewards).to(device)\n",
    "    done_mask = torch.BoolTensor(dones).to(device)\n",
    "\n",
    "    # Get Q-values for states\n",
    "    # `actions_v.unsqueeze(-1)`: Tensor of indices of elements to be chosen \n",
    "    # `squeeze(-1)`: Remove unnecessary dimensions \n",
    "    # Note: `gather` keeps all gradients\n",
    "    state_action_values = net(states_v).gather(1, actions_v.unsqueeze(-1)).squeeze(-1)\n",
    "    \n",
    "    with torch.no_grad():\n",
    "        \n",
    "        # Calculate maximum Q-values for next states, along action-dimension (1)\n",
    "        # Note: `.max` calculates max values and their indices, but we only want max values, so we index [0]\n",
    "        next_state_values = tgt_net(next_states_v).max(1)[0]\n",
    "        \n",
    "        # ? \n",
    "        next_state_values[done_mask] = 0.0\n",
    "        \n",
    "        # `detach` prevents gradients from flowing into the `tgt_net`'s graph\n",
    "        next_state_values = next_state_values.detach()\n",
    "\n",
    "    # Bellman approximation \n",
    "    expected_state_action_values = next_state_values * GAMMA + rewards_v\n",
    "    \n",
    "    # Mean squared error loss \n",
    "    return nn.MSELoss()(state_action_values, expected_state_action_values)"
   ]
  },
  {
   "cell_type": "markdown",
   "metadata": {},
   "source": [
    "`state_action_values = net(states_v).gather(1, actions_v.unsqueeze(-1)).squeeze(-1)`:\n",
    "\n",
    "<img src=\"images/gather.png\" style=\"height:200px\">\n",
    "\n",
    "##### Testing `calc_loss`"
   ]
  },
  {
   "cell_type": "code",
   "execution_count": 10,
   "metadata": {},
   "outputs": [
    {
     "name": "stdout",
     "output_type": "stream",
     "text": [
      "(array([1, 2]),\n",
      " array([1, 2]),\n",
      " array([1., 2.], dtype=float32),\n",
      " array([0, 0], dtype=uint8),\n",
      " array([2, 3]))\n",
      "\n",
      "States: \t tensor([1, 2])\n",
      "Next States: \t tensor([2, 3])\n",
      "Actions: \t tensor([1, 2])\n",
      "Rewards: \t tensor([1., 2.])\n",
      "Dones: \t\t tensor([False, False])\n",
      "\n",
      "actions_v.shape: \t\t torch.Size([2])\n",
      "actions_v.unsqueeze(-1).shape: \t torch.Size([2, 1])\n"
     ]
    }
   ],
   "source": [
    "import pprint\n",
    "\n",
    "buffer = ExperienceBuffer(100)\n",
    "buffer.append(Experience(0, 0, 0, False, 1))\n",
    "buffer.append(Experience(1, 1, 1, False, 2))\n",
    "buffer.append(Experience(2, 2, 2, False, 3))\n",
    "buffer.append(Experience(3, 3, 3, False, 4))\n",
    "batch = buffer.sample(2)\n",
    "\n",
    "states, actions, rewards, dones, next_states = batch\n",
    "\n",
    "states_v = torch.tensor(np.array(states, copy=False))\n",
    "next_states_v = torch.tensor(np.array(next_states, copy=False))\n",
    "actions_v = torch.tensor(actions)\n",
    "rewards_v = torch.tensor(rewards)\n",
    "done_mask = torch.BoolTensor(dones)\n",
    "\n",
    "pprint.pprint(batch)\n",
    "print('\\nStates: \\t', states_v)\n",
    "print('Next States: \\t', next_states_v)\n",
    "print('Actions: \\t', actions_v)\n",
    "print('Rewards: \\t', rewards_v)\n",
    "print('Dones: \\t\\t', done_mask)\n",
    "\n",
    "print('\\nactions_v.shape: \\t\\t', actions_v.shape)\n",
    "print('actions_v.unsqueeze(-1).shape: \\t', actions_v.unsqueeze(-1).shape)"
   ]
  },
  {
   "cell_type": "markdown",
   "metadata": {},
   "source": [
    "<br> \n",
    "\n",
    "### Main"
   ]
  },
  {
   "cell_type": "code",
   "execution_count": 11,
   "metadata": {},
   "outputs": [
    {
     "name": "stdout",
     "output_type": "stream",
     "text": [
      "DQN(\n",
      "  (conv): Sequential(\n",
      "    (0): Conv2d(4, 32, kernel_size=(8, 8), stride=(4, 4))\n",
      "    (1): ReLU()\n",
      "    (2): Conv2d(32, 64, kernel_size=(4, 4), stride=(2, 2))\n",
      "    (3): ReLU()\n",
      "    (4): Conv2d(64, 64, kernel_size=(3, 3), stride=(1, 1))\n",
      "    (5): ReLU()\n",
      "  )\n",
      "  (fc): Sequential(\n",
      "    (0): Linear(in_features=3136, out_features=512, bias=True)\n",
      "    (1): ReLU()\n",
      "    (2): Linear(in_features=512, out_features=6, bias=True)\n",
      "  )\n",
      ")  \n",
      "\n",
      "Frame #920: \tdone 1 games, \treward -20.000, \tepsilon 0.99, \tspeed 318.74 f/s\n",
      "Frame #1738: \tdone 2 games, \treward -20.500, \tepsilon 0.99, \tspeed 296.28 f/s\n",
      "Frame #2626: \tdone 3 games, \treward -20.667, \tepsilon 0.98, \tspeed 440.83 f/s\n",
      "Frame #3778: \tdone 4 games, \treward -20.000, \tepsilon 0.97, \tspeed 413.33 f/s\n",
      "Frame #4628: \tdone 5 games, \treward -20.200, \tepsilon 0.97, \tspeed 489.08 f/s\n",
      "Frame #5647: \tdone 6 games, \treward -20.167, \tepsilon 0.96, \tspeed 466.92 f/s\n",
      "Frame #6409: \tdone 7 games, \treward -20.286, \tepsilon 0.96, \tspeed 444.00 f/s\n",
      "Frame #7218: \tdone 8 games, \treward -20.375, \tepsilon 0.95, \tspeed 462.50 f/s\n",
      "Frame #8040: \tdone 9 games, \treward -20.444, \tepsilon 0.95, \tspeed 476.68 f/s\n",
      "Frame #8983: \tdone 10 games, \treward -20.500, \tepsilon 0.94, \tspeed 455.16 f/s\n",
      "Frame #9763: \tdone 11 games, \treward -20.545, \tepsilon 0.93, \tspeed 476.29 f/s\n",
      "Frame #10554: \tdone 12 games, \treward -20.583, \tepsilon 0.93, \tspeed 29.69 f/s\n"
     ]
    },
    {
     "ename": "KeyboardInterrupt",
     "evalue": "",
     "output_type": "error",
     "traceback": [
      "\u001b[0;31m---------------------------------------------------------------------------\u001b[0m",
      "\u001b[0;31mKeyboardInterrupt\u001b[0m                         Traceback (most recent call last)",
      "\u001b[0;32m<ipython-input-11-51711eb6a2df>\u001b[0m in \u001b[0;36m<module>\u001b[0;34m\u001b[0m\n\u001b[1;32m     97\u001b[0m     \u001b[0mbatch\u001b[0m \u001b[0;34m=\u001b[0m \u001b[0mbuffer\u001b[0m\u001b[0;34m.\u001b[0m\u001b[0msample\u001b[0m\u001b[0;34m(\u001b[0m\u001b[0mBATCH_SIZE\u001b[0m\u001b[0;34m)\u001b[0m\u001b[0;34m\u001b[0m\u001b[0;34m\u001b[0m\u001b[0m\n\u001b[1;32m     98\u001b[0m     \u001b[0mloss_t\u001b[0m \u001b[0;34m=\u001b[0m \u001b[0mcalc_loss\u001b[0m\u001b[0;34m(\u001b[0m\u001b[0mbatch\u001b[0m\u001b[0;34m,\u001b[0m \u001b[0mnet\u001b[0m\u001b[0;34m,\u001b[0m \u001b[0mtgt_net\u001b[0m\u001b[0;34m,\u001b[0m \u001b[0mdevice\u001b[0m\u001b[0;34m=\u001b[0m\u001b[0mdevice\u001b[0m\u001b[0;34m)\u001b[0m\u001b[0;34m\u001b[0m\u001b[0;34m\u001b[0m\u001b[0m\n\u001b[0;32m---> 99\u001b[0;31m     \u001b[0mloss_t\u001b[0m\u001b[0;34m.\u001b[0m\u001b[0mbackward\u001b[0m\u001b[0;34m(\u001b[0m\u001b[0;34m)\u001b[0m\u001b[0;34m\u001b[0m\u001b[0;34m\u001b[0m\u001b[0m\n\u001b[0m\u001b[1;32m    100\u001b[0m     \u001b[0moptimizer\u001b[0m\u001b[0;34m.\u001b[0m\u001b[0mstep\u001b[0m\u001b[0;34m(\u001b[0m\u001b[0;34m)\u001b[0m\u001b[0;34m\u001b[0m\u001b[0;34m\u001b[0m\u001b[0m\n\u001b[1;32m    101\u001b[0m \u001b[0;34m\u001b[0m\u001b[0m\n",
      "\u001b[0;32m~/opt/anaconda3/envs/drl/lib/python3.6/site-packages/torch/tensor.py\u001b[0m in \u001b[0;36mbackward\u001b[0;34m(self, gradient, retain_graph, create_graph)\u001b[0m\n\u001b[1;32m    183\u001b[0m                 \u001b[0mproducts\u001b[0m\u001b[0;34m.\u001b[0m \u001b[0mDefaults\u001b[0m \u001b[0mto\u001b[0m\u001b[0;31m \u001b[0m\u001b[0;31m`\u001b[0m\u001b[0;31m`\u001b[0m\u001b[0;32mFalse\u001b[0m\u001b[0;31m`\u001b[0m\u001b[0;31m`\u001b[0m\u001b[0;34m.\u001b[0m\u001b[0;34m\u001b[0m\u001b[0;34m\u001b[0m\u001b[0m\n\u001b[1;32m    184\u001b[0m         \"\"\"\n\u001b[0;32m--> 185\u001b[0;31m         \u001b[0mtorch\u001b[0m\u001b[0;34m.\u001b[0m\u001b[0mautograd\u001b[0m\u001b[0;34m.\u001b[0m\u001b[0mbackward\u001b[0m\u001b[0;34m(\u001b[0m\u001b[0mself\u001b[0m\u001b[0;34m,\u001b[0m \u001b[0mgradient\u001b[0m\u001b[0;34m,\u001b[0m \u001b[0mretain_graph\u001b[0m\u001b[0;34m,\u001b[0m \u001b[0mcreate_graph\u001b[0m\u001b[0;34m)\u001b[0m\u001b[0;34m\u001b[0m\u001b[0;34m\u001b[0m\u001b[0m\n\u001b[0m\u001b[1;32m    186\u001b[0m \u001b[0;34m\u001b[0m\u001b[0m\n\u001b[1;32m    187\u001b[0m     \u001b[0;32mdef\u001b[0m \u001b[0mregister_hook\u001b[0m\u001b[0;34m(\u001b[0m\u001b[0mself\u001b[0m\u001b[0;34m,\u001b[0m \u001b[0mhook\u001b[0m\u001b[0;34m)\u001b[0m\u001b[0;34m:\u001b[0m\u001b[0;34m\u001b[0m\u001b[0;34m\u001b[0m\u001b[0m\n",
      "\u001b[0;32m~/opt/anaconda3/envs/drl/lib/python3.6/site-packages/torch/autograd/__init__.py\u001b[0m in \u001b[0;36mbackward\u001b[0;34m(tensors, grad_tensors, retain_graph, create_graph, grad_variables)\u001b[0m\n\u001b[1;32m    125\u001b[0m     Variable._execution_engine.run_backward(\n\u001b[1;32m    126\u001b[0m         \u001b[0mtensors\u001b[0m\u001b[0;34m,\u001b[0m \u001b[0mgrad_tensors\u001b[0m\u001b[0;34m,\u001b[0m \u001b[0mretain_graph\u001b[0m\u001b[0;34m,\u001b[0m \u001b[0mcreate_graph\u001b[0m\u001b[0;34m,\u001b[0m\u001b[0;34m\u001b[0m\u001b[0;34m\u001b[0m\u001b[0m\n\u001b[0;32m--> 127\u001b[0;31m         allow_unreachable=True)  # allow_unreachable flag\n\u001b[0m\u001b[1;32m    128\u001b[0m \u001b[0;34m\u001b[0m\u001b[0m\n\u001b[1;32m    129\u001b[0m \u001b[0;34m\u001b[0m\u001b[0m\n",
      "\u001b[0;31mKeyboardInterrupt\u001b[0m: "
     ]
    }
   ],
   "source": [
    "# GPU/CPU\n",
    "device = torch.device(\"cuda\" if torch.cuda.is_available() else \"cpu\")\n",
    "\n",
    "# Environment\n",
    "env = wrappers.make_env(DEFAULT_ENV_NAME)\n",
    "env_name = env.unwrapped.spec.id\n",
    "\n",
    "# TensorBoard\n",
    "log_dir = os.path.join('runs', datetime.datetime.now().strftime(\"%Y:%m:%d-%H:%M:%S\"))\n",
    "writer = SummaryWriter(log_dir)\n",
    "\n",
    "model_dir = 'models/'\n",
    "\n",
    "# Recording \n",
    "# rec_dir = \"./recordings/07_recording\"\n",
    "# recording = gym.wrappers.monitoring.video_recorder.VideoRecorder(env, base_path=rec_dir)\n",
    "\n",
    "net = dqn_model.DQN(env.observation_space.shape, env.action_space.n).to(device) # (Training) Network: Calculates gradients \n",
    "tgt_net = dqn_model.DQN(env.observation_space.shape, env.action_space.n).to(device) # Target Network: Calculates Q-values for the next states \n",
    "print(net, ' \\n')\n",
    "\n",
    "buffer = ExperienceBuffer(REPLAY_SIZE) # Replay buffer \n",
    "agent = Agent(env, buffer) # Agent \n",
    "epsilon = EPSILON_START # Initial epsilon \n",
    "\n",
    "optimizer = optim.Adam(net.parameters(), lr=LEARNING_RATE) \n",
    "total_rewards = [] # All (done-)rewards \n",
    "frame_idx = 0 # Frame counter (used when there's a reward and env is over)\n",
    "ts_frame = 0 # Time counter (used when there's a reward and env is over)\n",
    "ts = time.time() # Current time \n",
    "best_m_reward = None # Best mean reward \n",
    "\n",
    "while True:\n",
    "    \n",
    "    env.render()\n",
    "    # recording.caputre_frame()\n",
    "    \n",
    "    # Increment number of iterations \n",
    "    frame_idx += 1\n",
    "    \n",
    "    # Decrease `epsilon` linearly from 0-`EPSILON_DECAY_LAST_FRAME`, then keep it constant at `EPSILON_FINAL`\n",
    "    epsilon = max(EPSILON_FINAL, EPSILON_START - frame_idx / EPSILON_DECAY_LAST_FRAME)\n",
    "\n",
    "    # Take step using current network \n",
    "    reward = agent.play_step(net, epsilon, device=device)    \n",
    "    \n",
    "    # If this stpe is the last step in the episode \n",
    "    if reward is not None:\n",
    "        \n",
    "        # Keep track of reward given \n",
    "        total_rewards.append(reward)\n",
    "        \n",
    "        # Calculate speed (as number of fps) \n",
    "        speed = (frame_idx - ts_frame) / (time.time() - ts)\n",
    "        \n",
    "        # Number of episodes played and current time \n",
    "        ts_frame = frame_idx\n",
    "        ts = time.time()\n",
    "        \n",
    "        # Mean reward for last 100 episodes \n",
    "        m_reward = np.mean(total_rewards[-100:])\n",
    "        \n",
    "        # Print & Save to TensorBord \n",
    "        print(\"Frame #%d: \\tdone %d games, \\treward %.3f, \\tepsilon %.2f, \\tspeed %.2f f/s\" % (frame_idx, len(total_rewards), m_reward, epsilon, speed))\n",
    "        writer.add_scalar(\"epsilon\", epsilon, frame_idx)\n",
    "        writer.add_scalar(\"speed\", speed, frame_idx)\n",
    "        writer.add_scalar(\"reward_100\", m_reward, frame_idx)\n",
    "        writer.add_scalar(\"reward\", reward, frame_idx)\n",
    "        \n",
    "        # If the mean reward for the alst 100 episodes is a maximum \n",
    "        if best_m_reward is None or best_m_reward < m_reward:\n",
    "            \n",
    "            # Save model \n",
    "            torch.save(net.state_dict(), model_dir + env_name + \"-best_%.0f.dat\" % m_reward)\n",
    "                \n",
    "            if best_m_reward is not None:\n",
    "                print(\"\\nBest reward updated %.3f -> %.3f\\n\" % (best_m_reward, m_reward))\n",
    "            \n",
    "            # Save mean reward \n",
    "            best_m_reward = m_reward\n",
    "        \n",
    "        # If the mean reward exceeds the boundary, stop training \n",
    "        if m_reward > MEAN_REWARD_BOUND:\n",
    "            print(\"Solved in %d frames!\" % frame_idx)\n",
    "            break\n",
    "\n",
    "    # If buffer ISN'T large enough for training, skip training (the syncing of frames)\n",
    "    if len(buffer) < REPLAY_START_SIZE:\n",
    "        continue\n",
    "\n",
    "    # Every `SYNC_TARGET_FRAMES`, sync parameters from main network to target network \n",
    "    if frame_idx % SYNC_TARGET_FRAMES == 0:\n",
    "        tgt_net.load_state_dict(net.state_dict())\n",
    "\n",
    "    # Zero gradients, sample batch from buffer, calculate loss, optimize & minimize loss (for `net`)\n",
    "    optimizer.zero_grad()\n",
    "    batch = buffer.sample(BATCH_SIZE)\n",
    "    loss_t = calc_loss(batch, net, tgt_net, device=device)\n",
    "    loss_t.backward()\n",
    "    optimizer.step()\n",
    "        \n",
    "writer.close()\n",
    "# recording.close()"
   ]
  },
  {
   "cell_type": "markdown",
   "metadata": {},
   "source": [
    "<br> \n",
    "\n",
    "### TensorBoard"
   ]
  },
  {
   "cell_type": "code",
   "execution_count": null,
   "metadata": {},
   "outputs": [],
   "source": [
    "!tensorboard dev upload --logdir='./runs/07_runs' --name='07_dqn_pong'"
   ]
  },
  {
   "cell_type": "markdown",
   "metadata": {},
   "source": [
    "<br>"
   ]
  }
 ],
 "metadata": {
  "kernelspec": {
   "display_name": "drl",
   "language": "python",
   "name": "drlnd"
  },
  "language_info": {
   "codemirror_mode": {
    "name": "ipython",
    "version": 3
   },
   "file_extension": ".py",
   "mimetype": "text/x-python",
   "name": "python",
   "nbconvert_exporter": "python",
   "pygments_lexer": "ipython3",
   "version": "3.6.10"
  }
 },
 "nbformat": 4,
 "nbformat_minor": 4
}
